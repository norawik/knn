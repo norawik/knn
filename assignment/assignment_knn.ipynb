{
  "cells": [
    {
      "cell_type": "markdown",
      "id": "f7ef20f0-722f-4240-8a79-437d4a3b8832",
      "metadata": {
        "id": "f7ef20f0-722f-4240-8a79-437d4a3b8832"
      },
      "source": [
        "## Assignment 3: $k$ Nearest Neighbor and Visualization Nora Wiktorowicz\n",
        "\n",
        "**Do two questions from K and 1 from visualization.**\n",
        "\n",
        "`! git clone https://github.com/ds4e/knn`\n",
        "\n",
        "Assignment: Exploratory\n",
        "! git clone https://github.com/ds4e/visualization"
      ]
    },
    {
      "cell_type": "markdown",
      "source": [
        "# K Nearest Neighbor"
      ],
      "metadata": {
        "id": "R9ZxdwMzgY3q"
      },
      "id": "R9ZxdwMzgY3q"
    },
    {
      "cell_type": "markdown",
      "id": "5d9212c0",
      "metadata": {
        "id": "5d9212c0"
      },
      "source": [
        "# **Q0.**\n",
        "**1. What is the difference between regression and classification?**\n"
      ]
    },
    {
      "cell_type": "markdown",
      "source": [
        "In machine learning, regression is a statistical method that is utilized when we want to predict numerical or continuous values (such as price). In contrast, classification is used when we want to work with discrete values (yes/no, 2 different categories, etc.)."
      ],
      "metadata": {
        "id": "Afhz505yyN2-"
      },
      "id": "Afhz505yyN2-"
    },
    {
      "cell_type": "markdown",
      "source": [
        "**2.What is a confusion table? What does it help us understand about a model's performance?**"
      ],
      "metadata": {
        "id": "7uY5DD4EyLFK"
      },
      "id": "7uY5DD4EyLFK"
    },
    {
      "cell_type": "markdown",
      "source": [
        "A confusion table tells us a summary of the performance of the model. It shows us the number of correct versus incorrect predictions in each class. This helps us to understand the model's performance by showing us which part of the model is inaccurate and weakest (meaning it has the highest number of incorrect predicitions). This allows us to adjust the model to improve it, or adjust our interpretations."
      ],
      "metadata": {
        "id": "kgLa3RSfTcR-"
      },
      "id": "kgLa3RSfTcR-"
    },
    {
      "cell_type": "markdown",
      "source": [
        "**3.What does the SSE quantify about a particular model?**"
      ],
      "metadata": {
        "id": "aW7OQjIlTabA"
      },
      "id": "aW7OQjIlTabA"
    },
    {
      "cell_type": "markdown",
      "source": [
        "SSE (sum of squared errors) shows us the difference between observed and predicted values. In other words, it quantifies the variation in the model (the difference between what was actually and observed and what the model predicts). This quantifies the \"error\" of the model."
      ],
      "metadata": {
        "id": "_KJX1ZBwT7Nf"
      },
      "id": "_KJX1ZBwT7Nf"
    },
    {
      "cell_type": "markdown",
      "source": [
        "**4.What are overfitting and underfitting?**"
      ],
      "metadata": {
        "id": "nBl44i9NT5y3"
      },
      "id": "nBl44i9NT5y3"
    },
    {
      "cell_type": "markdown",
      "source": [
        "Overfitting is when a model is too complicated and overtrains on the data used to train it. Then, when new data is introduced, it does not fit the new data and does not have accurate generalizations. Underfitting is when a model is too simple, and does not have accurate or proper generalizations on either the training or test data."
      ],
      "metadata": {
        "id": "EcKVWPxKUW1X"
      },
      "id": "EcKVWPxKUW1X"
    },
    {
      "cell_type": "markdown",
      "source": [
        "**5.Why does splitting the data into training and testing sets, and choosing $k$ by evaluating accuracy or SSE on the test set, improve model performance?**"
      ],
      "metadata": {
        "id": "-_SkgZSIUVg-"
      },
      "id": "-_SkgZSIUVg-"
    },
    {
      "cell_type": "markdown",
      "source": [
        "Splitting the data into training and test sets, and choosing k by evaluating accuracy or SSE on the test set, improves model performance because it reduces the likelihood for overfitting. Through dividing the data into training and test sets, we are able to first train the model, and then test the model on the test data to ensure that overfitting is not occuring. Therefore, it shows us how the model will work, allowing for repeated testing. It removes any biases in testing how well the model is able to adapt when given new data.  "
      ],
      "metadata": {
        "id": "D0WBHxW_VFTZ"
      },
      "id": "D0WBHxW_VFTZ"
    },
    {
      "cell_type": "markdown",
      "source": [
        "**6.With classification, we can report a class label as a prediction or a probability distribution over class labels. Please explain the strengths and weaknesses of each approach**"
      ],
      "metadata": {
        "id": "40eq9HSzU_1N"
      },
      "id": "40eq9HSzU_1N"
    },
    {
      "cell_type": "markdown",
      "source": [
        "With classification, we can report a class label as a prediction or a probability distribution over class labels. These two approaches both have strengths and weaknesses. Reporting a class label as a prediction is easier to do, more time and cost-effective, and better when the model is confident about a singular classification. However, it also may lead to confusing information (doesn't account for more complex scenarios, such as when different classifications have high similarity in likelihood), and it does not tell us the level of certainty the model has in its classification (which may allow to over-reliance on this data in our analysis). Reporting a class label as a probability distribution over class labels allows us to reflect a more complex/specific interpretation (beyond just the \"most likely\" classification), and allow us to interpret/analyze the likelihood of each classification (which may lead to a more effective analysis and conclusions with a more well-rounded \"big picture\"). However, it may be more complex to interpret, timely, and require further interpretation.  "
      ],
      "metadata": {
        "id": "WdTqxNkUVmWE"
      },
      "id": "WdTqxNkUVmWE"
    },
    {
      "cell_type": "markdown",
      "id": "8d193de6",
      "metadata": {
        "vscode": {
          "languageId": "plaintext"
        },
        "id": "8d193de6"
      },
      "source": [
        "# **Q6.** This is a case study on $k$ nearest neighbor regression and imputation, using the `airbnb_hw.csv` data.\n",
        "\n",
        "There are 30,478 observations, but only 22,155 ratings. We're going to build a kNN regressor to impute missing values. This is a common task, and illustrates one way you can use kNN in the future even when you have more advanced models available.\n",
        "\n",
        "***1.Load the `airbnb_hw.csv` data with Pandas. We're only going to use `Review Scores Rating`, `Price`, and `Beds`, so use `.loc` to reduce the dataframe to those variables. ***"
      ]
    },
    {
      "cell_type": "code",
      "source": [
        "import numpy as np\n",
        "import pandas as pd\n",
        "import matplotlib.pyplot as plt\n",
        "import seaborn as sns"
      ],
      "metadata": {
        "id": "r0CenzntVwGg"
      },
      "id": "r0CenzntVwGg",
      "execution_count": 1,
      "outputs": []
    },
    {
      "cell_type": "code",
      "source": [
        "! git clone https://github.com/ds4e/wrangling"
      ],
      "metadata": {
        "colab": {
          "base_uri": "https://localhost:8080/"
        },
        "id": "3bgWhQwkV6Uy",
        "outputId": "9cebee96-1129-4180-dacb-9ea9b3d13d66"
      },
      "id": "3bgWhQwkV6Uy",
      "execution_count": 2,
      "outputs": [
        {
          "output_type": "stream",
          "name": "stdout",
          "text": [
            "Cloning into 'wrangling'...\n",
            "remote: Enumerating objects: 66, done.\u001b[K\n",
            "remote: Counting objects: 100% (27/27), done.\u001b[K\n",
            "remote: Compressing objects: 100% (20/20), done.\u001b[K\n",
            "remote: Total 66 (delta 10), reused 6 (delta 6), pack-reused 39 (from 1)\u001b[K\n",
            "Receiving objects: 100% (66/66), 13.84 MiB | 7.50 MiB/s, done.\n",
            "Resolving deltas: 100% (15/15), done.\n"
          ]
        }
      ]
    },
    {
      "cell_type": "code",
      "source": [
        "df = pd.read_csv('/content/wrangling/assignment/data/airbnb_hw.csv', low_memory = False)\n",
        "df = df.loc[:, [\"Review Scores Rating\", \"Price\", \"Beds\"]]\n",
        "print(df.shape, '/n')\n",
        "df.head()"
      ],
      "metadata": {
        "colab": {
          "base_uri": "https://localhost:8080/",
          "height": 224
        },
        "id": "XFneRPg4V_5N",
        "outputId": "bc9fb1e4-5088-4920-84ac-e58da258ab91"
      },
      "id": "XFneRPg4V_5N",
      "execution_count": 3,
      "outputs": [
        {
          "output_type": "stream",
          "name": "stdout",
          "text": [
            "(30478, 3) /n\n"
          ]
        },
        {
          "output_type": "execute_result",
          "data": {
            "text/plain": [
              "   Review Scores Rating Price  Beds\n",
              "0                   NaN   145   1.0\n",
              "1                   NaN    37   1.0\n",
              "2                   NaN    28   1.0\n",
              "3                   NaN   199   3.0\n",
              "4                  96.0   549   3.0"
            ],
            "text/html": [
              "\n",
              "  <div id=\"df-c3059071-b12e-45bd-8b9d-9c27e48a0c77\" class=\"colab-df-container\">\n",
              "    <div>\n",
              "<style scoped>\n",
              "    .dataframe tbody tr th:only-of-type {\n",
              "        vertical-align: middle;\n",
              "    }\n",
              "\n",
              "    .dataframe tbody tr th {\n",
              "        vertical-align: top;\n",
              "    }\n",
              "\n",
              "    .dataframe thead th {\n",
              "        text-align: right;\n",
              "    }\n",
              "</style>\n",
              "<table border=\"1\" class=\"dataframe\">\n",
              "  <thead>\n",
              "    <tr style=\"text-align: right;\">\n",
              "      <th></th>\n",
              "      <th>Review Scores Rating</th>\n",
              "      <th>Price</th>\n",
              "      <th>Beds</th>\n",
              "    </tr>\n",
              "  </thead>\n",
              "  <tbody>\n",
              "    <tr>\n",
              "      <th>0</th>\n",
              "      <td>NaN</td>\n",
              "      <td>145</td>\n",
              "      <td>1.0</td>\n",
              "    </tr>\n",
              "    <tr>\n",
              "      <th>1</th>\n",
              "      <td>NaN</td>\n",
              "      <td>37</td>\n",
              "      <td>1.0</td>\n",
              "    </tr>\n",
              "    <tr>\n",
              "      <th>2</th>\n",
              "      <td>NaN</td>\n",
              "      <td>28</td>\n",
              "      <td>1.0</td>\n",
              "    </tr>\n",
              "    <tr>\n",
              "      <th>3</th>\n",
              "      <td>NaN</td>\n",
              "      <td>199</td>\n",
              "      <td>3.0</td>\n",
              "    </tr>\n",
              "    <tr>\n",
              "      <th>4</th>\n",
              "      <td>96.0</td>\n",
              "      <td>549</td>\n",
              "      <td>3.0</td>\n",
              "    </tr>\n",
              "  </tbody>\n",
              "</table>\n",
              "</div>\n",
              "    <div class=\"colab-df-buttons\">\n",
              "\n",
              "  <div class=\"colab-df-container\">\n",
              "    <button class=\"colab-df-convert\" onclick=\"convertToInteractive('df-c3059071-b12e-45bd-8b9d-9c27e48a0c77')\"\n",
              "            title=\"Convert this dataframe to an interactive table.\"\n",
              "            style=\"display:none;\">\n",
              "\n",
              "  <svg xmlns=\"http://www.w3.org/2000/svg\" height=\"24px\" viewBox=\"0 -960 960 960\">\n",
              "    <path d=\"M120-120v-720h720v720H120Zm60-500h600v-160H180v160Zm220 220h160v-160H400v160Zm0 220h160v-160H400v160ZM180-400h160v-160H180v160Zm440 0h160v-160H620v160ZM180-180h160v-160H180v160Zm440 0h160v-160H620v160Z\"/>\n",
              "  </svg>\n",
              "    </button>\n",
              "\n",
              "  <style>\n",
              "    .colab-df-container {\n",
              "      display:flex;\n",
              "      gap: 12px;\n",
              "    }\n",
              "\n",
              "    .colab-df-convert {\n",
              "      background-color: #E8F0FE;\n",
              "      border: none;\n",
              "      border-radius: 50%;\n",
              "      cursor: pointer;\n",
              "      display: none;\n",
              "      fill: #1967D2;\n",
              "      height: 32px;\n",
              "      padding: 0 0 0 0;\n",
              "      width: 32px;\n",
              "    }\n",
              "\n",
              "    .colab-df-convert:hover {\n",
              "      background-color: #E2EBFA;\n",
              "      box-shadow: 0px 1px 2px rgba(60, 64, 67, 0.3), 0px 1px 3px 1px rgba(60, 64, 67, 0.15);\n",
              "      fill: #174EA6;\n",
              "    }\n",
              "\n",
              "    .colab-df-buttons div {\n",
              "      margin-bottom: 4px;\n",
              "    }\n",
              "\n",
              "    [theme=dark] .colab-df-convert {\n",
              "      background-color: #3B4455;\n",
              "      fill: #D2E3FC;\n",
              "    }\n",
              "\n",
              "    [theme=dark] .colab-df-convert:hover {\n",
              "      background-color: #434B5C;\n",
              "      box-shadow: 0px 1px 3px 1px rgba(0, 0, 0, 0.15);\n",
              "      filter: drop-shadow(0px 1px 2px rgba(0, 0, 0, 0.3));\n",
              "      fill: #FFFFFF;\n",
              "    }\n",
              "  </style>\n",
              "\n",
              "    <script>\n",
              "      const buttonEl =\n",
              "        document.querySelector('#df-c3059071-b12e-45bd-8b9d-9c27e48a0c77 button.colab-df-convert');\n",
              "      buttonEl.style.display =\n",
              "        google.colab.kernel.accessAllowed ? 'block' : 'none';\n",
              "\n",
              "      async function convertToInteractive(key) {\n",
              "        const element = document.querySelector('#df-c3059071-b12e-45bd-8b9d-9c27e48a0c77');\n",
              "        const dataTable =\n",
              "          await google.colab.kernel.invokeFunction('convertToInteractive',\n",
              "                                                    [key], {});\n",
              "        if (!dataTable) return;\n",
              "\n",
              "        const docLinkHtml = 'Like what you see? Visit the ' +\n",
              "          '<a target=\"_blank\" href=https://colab.research.google.com/notebooks/data_table.ipynb>data table notebook</a>'\n",
              "          + ' to learn more about interactive tables.';\n",
              "        element.innerHTML = '';\n",
              "        dataTable['output_type'] = 'display_data';\n",
              "        await google.colab.output.renderOutput(dataTable, element);\n",
              "        const docLink = document.createElement('div');\n",
              "        docLink.innerHTML = docLinkHtml;\n",
              "        element.appendChild(docLink);\n",
              "      }\n",
              "    </script>\n",
              "  </div>\n",
              "\n",
              "\n",
              "<div id=\"df-34433c2a-d299-4ecf-9e31-876ab4e1aab2\">\n",
              "  <button class=\"colab-df-quickchart\" onclick=\"quickchart('df-34433c2a-d299-4ecf-9e31-876ab4e1aab2')\"\n",
              "            title=\"Suggest charts\"\n",
              "            style=\"display:none;\">\n",
              "\n",
              "<svg xmlns=\"http://www.w3.org/2000/svg\" height=\"24px\"viewBox=\"0 0 24 24\"\n",
              "     width=\"24px\">\n",
              "    <g>\n",
              "        <path d=\"M19 3H5c-1.1 0-2 .9-2 2v14c0 1.1.9 2 2 2h14c1.1 0 2-.9 2-2V5c0-1.1-.9-2-2-2zM9 17H7v-7h2v7zm4 0h-2V7h2v10zm4 0h-2v-4h2v4z\"/>\n",
              "    </g>\n",
              "</svg>\n",
              "  </button>\n",
              "\n",
              "<style>\n",
              "  .colab-df-quickchart {\n",
              "      --bg-color: #E8F0FE;\n",
              "      --fill-color: #1967D2;\n",
              "      --hover-bg-color: #E2EBFA;\n",
              "      --hover-fill-color: #174EA6;\n",
              "      --disabled-fill-color: #AAA;\n",
              "      --disabled-bg-color: #DDD;\n",
              "  }\n",
              "\n",
              "  [theme=dark] .colab-df-quickchart {\n",
              "      --bg-color: #3B4455;\n",
              "      --fill-color: #D2E3FC;\n",
              "      --hover-bg-color: #434B5C;\n",
              "      --hover-fill-color: #FFFFFF;\n",
              "      --disabled-bg-color: #3B4455;\n",
              "      --disabled-fill-color: #666;\n",
              "  }\n",
              "\n",
              "  .colab-df-quickchart {\n",
              "    background-color: var(--bg-color);\n",
              "    border: none;\n",
              "    border-radius: 50%;\n",
              "    cursor: pointer;\n",
              "    display: none;\n",
              "    fill: var(--fill-color);\n",
              "    height: 32px;\n",
              "    padding: 0;\n",
              "    width: 32px;\n",
              "  }\n",
              "\n",
              "  .colab-df-quickchart:hover {\n",
              "    background-color: var(--hover-bg-color);\n",
              "    box-shadow: 0 1px 2px rgba(60, 64, 67, 0.3), 0 1px 3px 1px rgba(60, 64, 67, 0.15);\n",
              "    fill: var(--button-hover-fill-color);\n",
              "  }\n",
              "\n",
              "  .colab-df-quickchart-complete:disabled,\n",
              "  .colab-df-quickchart-complete:disabled:hover {\n",
              "    background-color: var(--disabled-bg-color);\n",
              "    fill: var(--disabled-fill-color);\n",
              "    box-shadow: none;\n",
              "  }\n",
              "\n",
              "  .colab-df-spinner {\n",
              "    border: 2px solid var(--fill-color);\n",
              "    border-color: transparent;\n",
              "    border-bottom-color: var(--fill-color);\n",
              "    animation:\n",
              "      spin 1s steps(1) infinite;\n",
              "  }\n",
              "\n",
              "  @keyframes spin {\n",
              "    0% {\n",
              "      border-color: transparent;\n",
              "      border-bottom-color: var(--fill-color);\n",
              "      border-left-color: var(--fill-color);\n",
              "    }\n",
              "    20% {\n",
              "      border-color: transparent;\n",
              "      border-left-color: var(--fill-color);\n",
              "      border-top-color: var(--fill-color);\n",
              "    }\n",
              "    30% {\n",
              "      border-color: transparent;\n",
              "      border-left-color: var(--fill-color);\n",
              "      border-top-color: var(--fill-color);\n",
              "      border-right-color: var(--fill-color);\n",
              "    }\n",
              "    40% {\n",
              "      border-color: transparent;\n",
              "      border-right-color: var(--fill-color);\n",
              "      border-top-color: var(--fill-color);\n",
              "    }\n",
              "    60% {\n",
              "      border-color: transparent;\n",
              "      border-right-color: var(--fill-color);\n",
              "    }\n",
              "    80% {\n",
              "      border-color: transparent;\n",
              "      border-right-color: var(--fill-color);\n",
              "      border-bottom-color: var(--fill-color);\n",
              "    }\n",
              "    90% {\n",
              "      border-color: transparent;\n",
              "      border-bottom-color: var(--fill-color);\n",
              "    }\n",
              "  }\n",
              "</style>\n",
              "\n",
              "  <script>\n",
              "    async function quickchart(key) {\n",
              "      const quickchartButtonEl =\n",
              "        document.querySelector('#' + key + ' button');\n",
              "      quickchartButtonEl.disabled = true;  // To prevent multiple clicks.\n",
              "      quickchartButtonEl.classList.add('colab-df-spinner');\n",
              "      try {\n",
              "        const charts = await google.colab.kernel.invokeFunction(\n",
              "            'suggestCharts', [key], {});\n",
              "      } catch (error) {\n",
              "        console.error('Error during call to suggestCharts:', error);\n",
              "      }\n",
              "      quickchartButtonEl.classList.remove('colab-df-spinner');\n",
              "      quickchartButtonEl.classList.add('colab-df-quickchart-complete');\n",
              "    }\n",
              "    (() => {\n",
              "      let quickchartButtonEl =\n",
              "        document.querySelector('#df-34433c2a-d299-4ecf-9e31-876ab4e1aab2 button');\n",
              "      quickchartButtonEl.style.display =\n",
              "        google.colab.kernel.accessAllowed ? 'block' : 'none';\n",
              "    })();\n",
              "  </script>\n",
              "</div>\n",
              "\n",
              "    </div>\n",
              "  </div>\n"
            ],
            "application/vnd.google.colaboratory.intrinsic+json": {
              "type": "dataframe",
              "variable_name": "df",
              "summary": "{\n  \"name\": \"df\",\n  \"rows\": 30478,\n  \"fields\": [\n    {\n      \"column\": \"Review Scores Rating\",\n      \"properties\": {\n        \"dtype\": \"number\",\n        \"std\": 8.850373136231884,\n        \"min\": 20.0,\n        \"max\": 100.0,\n        \"num_unique_values\": 51,\n        \"samples\": [\n          58.0,\n          64.0,\n          55.0\n        ],\n        \"semantic_type\": \"\",\n        \"description\": \"\"\n      }\n    },\n    {\n      \"column\": \"Price\",\n      \"properties\": {\n        \"dtype\": \"category\",\n        \"num_unique_values\": 511,\n        \"samples\": [\n          \"299\",\n          \"98\",\n          \"1,065\"\n        ],\n        \"semantic_type\": \"\",\n        \"description\": \"\"\n      }\n    },\n    {\n      \"column\": \"Beds\",\n      \"properties\": {\n        \"dtype\": \"number\",\n        \"std\": 1.0153587174802678,\n        \"min\": 0.0,\n        \"max\": 16.0,\n        \"num_unique_values\": 14,\n        \"samples\": [\n          12.0,\n          16.0,\n          1.0\n        ],\n        \"semantic_type\": \"\",\n        \"description\": \"\"\n      }\n    }\n  ]\n}"
            }
          },
          "metadata": {},
          "execution_count": 3
        }
      ]
    },
    {
      "cell_type": "markdown",
      "source": [
        "**2. Set use `.isnull()` to select the subset of the dataframe with missing review values. Set those aside in a different dataframe. We'll make predictions about them later.**"
      ],
      "metadata": {
        "id": "uRFrWGpLW_0O"
      },
      "id": "uRFrWGpLW_0O"
    },
    {
      "cell_type": "code",
      "source": [
        "df_missing_review = df[df[\"Review Scores Rating\"].isnull()]\n",
        "print(df_missing_review.head())"
      ],
      "metadata": {
        "colab": {
          "base_uri": "https://localhost:8080/"
        },
        "id": "DLTivUQnXA9_",
        "outputId": "d2a2a36a-1376-4796-8ee2-64e29fa88793"
      },
      "id": "DLTivUQnXA9_",
      "execution_count": 4,
      "outputs": [
        {
          "output_type": "stream",
          "name": "stdout",
          "text": [
            "    Review Scores Rating Price  Beds\n",
            "0                    NaN   145   1.0\n",
            "1                    NaN    37   1.0\n",
            "2                    NaN    28   1.0\n",
            "3                    NaN   199   3.0\n",
            "13                   NaN    68   1.0\n"
          ]
        }
      ]
    },
    {
      "cell_type": "markdown",
      "source": [
        "**3. Use `df = df.dropna(axis = 0, how = 'any')` to eliminate any observations with missing values/NA's from the dataframe.**"
      ],
      "metadata": {
        "id": "vPhSvzIrXpWB"
      },
      "id": "vPhSvzIrXpWB"
    },
    {
      "cell_type": "code",
      "source": [
        "df = df.dropna(subset=[\"Review Scores Rating\"])\n",
        "print(df.head())"
      ],
      "metadata": {
        "colab": {
          "base_uri": "https://localhost:8080/"
        },
        "id": "n332taX5Xnor",
        "outputId": "82d692aa-b828-4feb-aa15-544894c08212"
      },
      "id": "n332taX5Xnor",
      "execution_count": 6,
      "outputs": [
        {
          "output_type": "stream",
          "name": "stdout",
          "text": [
            "   Review Scores Rating Price  Beds\n",
            "4                  96.0   549   3.0\n",
            "5                 100.0   149   1.0\n",
            "6                 100.0   250   1.0\n",
            "7                  94.0    90   1.0\n",
            "8                  90.0   270   2.0\n"
          ]
        }
      ]
    },
    {
      "cell_type": "markdown",
      "source": [
        "**4.For the complete cases, create a $k$-NN model that uses the variables `Price` and `Beds` to predict `Review Scores Rating`. How do you choose $k$? (Hint: Train/test split, iterate over reasonable values of $k$ and find a value that minimizes SSE on the test split using predictions from the training set.) ****"
      ],
      "metadata": {
        "id": "HL9KaXBxX27A"
      },
      "id": "HL9KaXBxX27A"
    },
    {
      "cell_type": "code",
      "source": [
        "from sklearn.model_selection import train_test_split\n",
        "from sklearn.preprocessing import StandardScaler\n",
        "from sklearn.neighbors import KNeighborsRegressor\n",
        "from sklearn.metrics import mean_squared_error\n",
        "\n",
        "\n",
        "df[\"Price\"] = pd.to_numeric(df[\"Price\"], errors='coerce')\n",
        "df[\"Beds\"] = pd.to_numeric(df[\"Beds\"], errors='coerce')\n",
        "X = df[[\"Price\", \"Beds\"]]\n",
        "y = df[\"Review Scores Rating\"]\n",
        "df = df.dropna()\n",
        "X_train, X_test, y_train, y_test = train_test_split(X, y, test_size=0.2, random_state=42) #split training and testing data 80/20 (recommended by stack overflow and other online resources)\n",
        "scaler = StandardScaler()\n",
        "X_train_scaled = scaler.fit_transform(X_train)\n",
        "X_test_scaled = scaler.transform(X_test)\n",
        "errors = [] #iterate over reasonable values of k\n",
        "k_values = range(1, 21)\n",
        "for k in k_values:\n",
        "    knn = KNeighborsRegressor(n_neighbors=k)\n",
        "    knn.fit(X_train_scaled, y_train)\n",
        "    y_pred = knn.predict(X_test_scaled)\n",
        "    sse = mean_squared_error(y_test, y_pred) * len(y_test)  #get the calculation of our SSE\n",
        "    errors.append(sse)\n",
        "optimal_k = k_values[np.argmin(errors)] #find a value that minimizes SSE on the test split using predictions\n",
        "print(f\"Best k: {optimal_k}\")\n",
        "final_knn = KNeighborsRegressor(n_neighbors=optimal_k) #train the model with the most optimal k\n",
        "final_knn.fit(X_train_scaled, y_train)\n",
        "final_predictions = final_knn.predict(X_test_scaled)\n",
        "final_sse = mean_squared_error(y_test, final_predictions) * len(y_test) #test and evaluate the model\n",
        "print(f\"Minimized SSE with k={optimal_k}: {final_sse}\")\n"
      ],
      "metadata": {
        "colab": {
          "base_uri": "https://localhost:8080/"
        },
        "id": "3h5MAPINYAcB",
        "outputId": "e86cb06c-15ef-4cc4-9149-88390e2a65ac"
      },
      "id": "3h5MAPINYAcB",
      "execution_count": 12,
      "outputs": [
        {
          "output_type": "stream",
          "name": "stdout",
          "text": [
            "Best k: 15\n",
            "Minimized SSE with k=15: 330436.6977777778\n"
          ]
        }
      ]
    },
    {
      "cell_type": "markdown",
      "source": [
        "You choose K as the value that minimizes the SSE. We did this by iterating over reasonable values of k, testing, and then training the model based on the most optimal value of k (15). Therefore, our model is using 15 nearest neighbors to predict Review Scores Rating."
      ],
      "metadata": {
        "id": "QLjWpuDoaEo6"
      },
      "id": "QLjWpuDoaEo6"
    },
    {
      "cell_type": "markdown",
      "source": [
        "**5.Predict the missing ratings.**"
      ],
      "metadata": {
        "id": "S43uTfAaaTOl"
      },
      "id": "S43uTfAaaTOl"
    },
    {
      "cell_type": "code",
      "source": [
        "missing = df_missing_review[[\"Price\", \"Beds\"]] #using the df_missing_review that I saved above\n",
        "missing['Price'] = missing['Price'].str.replace(',', '', regex=True).astype(float) #clean to ensure price is numeric\n",
        "missing = missing.dropna()\n",
        "missing_scaled = scaler.transform(missing)\n",
        "filtered_df = df[df[\"Review Scores Rating\"].isnull()]\n",
        "filtered_df.loc[:, \"Review Scores Rating\"] = final_knn.predict(missing_scaled)[:len(filtered_df)]\n",
        "df.update(filtered_df)\n",
        "print(df.head())\n"
      ],
      "metadata": {
        "colab": {
          "base_uri": "https://localhost:8080/"
        },
        "id": "jE2c0z7JaWqD",
        "outputId": "dba38351-698c-43a0-966c-27fb9cb6511a"
      },
      "id": "jE2c0z7JaWqD",
      "execution_count": 24,
      "outputs": [
        {
          "output_type": "stream",
          "name": "stdout",
          "text": [
            "   Review Scores Rating  Price  Beds\n",
            "4                  96.0  549.0   3.0\n",
            "5                 100.0  149.0   1.0\n",
            "6                 100.0  250.0   1.0\n",
            "7                  94.0   90.0   1.0\n",
            "8                  90.0  270.0   2.0\n"
          ]
        },
        {
          "output_type": "stream",
          "name": "stderr",
          "text": [
            "<ipython-input-24-9d4ee66c6438>:2: SettingWithCopyWarning: \n",
            "A value is trying to be set on a copy of a slice from a DataFrame.\n",
            "Try using .loc[row_indexer,col_indexer] = value instead\n",
            "\n",
            "See the caveats in the documentation: https://pandas.pydata.org/pandas-docs/stable/user_guide/indexing.html#returning-a-view-versus-a-copy\n",
            "  missing['Price'] = missing['Price'].str.replace(',', '', regex=True).astype(float) #clean to ensure price is numeric\n"
          ]
        }
      ]
    },
    {
      "cell_type": "markdown",
      "source": [
        "In the table above, we see the prediction for the missing ratings. For example, listings with 3 beds are predicted to have a rating of 96, lower than what the output rating may look like for a listing with 1 bed."
      ],
      "metadata": {
        "id": "BQJ_Xm66b0aY"
      },
      "id": "BQJ_Xm66b0aY"
    },
    {
      "cell_type": "markdown",
      "source": [
        "**6.Do a kernel density plot of the training ratings and the predicted missing ratings. Do they look similar or not? Explain why.**"
      ],
      "metadata": {
        "id": "jv1V8BBpWJ5N"
      },
      "id": "jv1V8BBpWJ5N"
    },
    {
      "cell_type": "code",
      "source": [
        "import seaborn as sns\n",
        "import matplotlib.pyplot as plt\n",
        "\n",
        "#kernel density plot of the training ratings\n",
        "plt.figure(figsize=(8, 5))\n",
        "sns.kdeplot(y_train, fill=True, color=\"blue\", alpha=0.5)\n",
        "plt.title(\"Kernel Density Plot of the Training Ratings\")\n",
        "plt.xlabel(\"Review Scores Rating\")\n",
        "plt.ylabel(\"Density\")\n",
        "plt.show()\n",
        "\n",
        "#kernel density plot of the predicted missing ratings\n",
        "predicted_missing_ratings = final_knn.predict(missing_scaled)\n",
        "plt.figure(figsize=(8, 5))\n",
        "sns.kdeplot(predicted_missing_ratings, fill=True, color=\"red\", alpha=0.5)\n",
        "plt.title(\"Kernel Density Plot of the Predicted Missing Ratings\")\n",
        "plt.xlabel(\"Predicted Rating\")\n",
        "plt.ylabel(\"Density\")\n",
        "plt.show()\n"
      ],
      "metadata": {
        "colab": {
          "base_uri": "https://localhost:8080/",
          "height": 957
        },
        "id": "E977UP_6cUtH",
        "outputId": "92866a59-728a-438c-8543-11b3795169a0"
      },
      "id": "E977UP_6cUtH",
      "execution_count": 38,
      "outputs": [
        {
          "output_type": "display_data",
          "data": {
            "text/plain": [
              "<Figure size 800x500 with 1 Axes>"
            ],
            "image/png": "[encoded data removed]"
          },
          "metadata": {}
        },
        {
          "output_type": "display_data",
          "data": {
            "text/plain": [
              "<Figure size 800x500 with 1 Axes>"
            ],
            "image/png": "[encoded data removed]"
          },
          "metadata": {}
        }
      ]
    },
    {
      "cell_type": "markdown",
      "source": [
        "The plots have a somewhat similar shape, with both skewed left. This shows that, for the most part, more guests left ratings when the ratings were somewhat high/positive. We see that for the kernel density plot of the training ratings, there are the highest density of ratings that are around 100. In contrast, the kernel density plot of predicted missing ratings is a bit more of an even distribution, with the highest density when the predicted ratings are around 96. This may occur for several reasons. For example, the distribution of the missing rating data may be more likely to be missing from less enthusiastic reviews (reflecting in the density peaks around 92 and 96). This causes the predicted rating plot to be shifted towards the left, toward more moderate reviews. This may be because guests that have neither had an atrocious or amazing expirience are less likely to take the time to leave a review."
      ],
      "metadata": {
        "id": "jTV6E1Cmdn2L"
      },
      "id": "jTV6E1Cmdn2L"
    },
    {
      "cell_type": "markdown",
      "source": [
        "# Visualization"
      ],
      "metadata": {
        "id": "6Tl1CosmgccP"
      },
      "id": "6Tl1CosmgccP"
    },
    {
      "cell_type": "markdown",
      "source": [
        "# Q4\n",
        "\n",
        "**Write your own function to make a kernel density plot.**\n",
        "\n",
        "The user should pass in a Pandas series or Numpy array.\n",
        "The default kernel should be Gaussian, but include the uniform/bump and Epanechnikov as alternatives.\n",
        "The default bandwidth should be the Silverman plug-in, but allow the user to specify an alternative.\n",
        "You can use Matplotlib or Seaborn's .lineplot, but not an existing function that creates kernel density plots.\n",
        "You will have to make a lot of choices and experiment with getting errors. Embrace the challenge and track your choices in the comments in your code.\n",
        "\n",
        "Use a data set from class to show that your function works, and compare it with the Seaborn kdeplot.\n",
        "\n",
        "We covered the Gaussian and uniform kernels in class, but the Epanechnikov kernel is also usable (formulas given).\n",
        "\n",
        "In order to make your code run reasonably quickly, consider using the pdist or cdist functions from SciPy to make distance calculations for arrays of points. The other leading alternative is to thoughtfully use NumPy's broadcasting features. Writing for loops will be slow, but that's fine."
      ],
      "metadata": {
        "id": "9W5ZPKYVgeim"
      },
      "id": "9W5ZPKYVgeim"
    },
    {
      "cell_type": "code",
      "source": [
        "df = pd.read_csv('/content/wrangling/assignment/data/airbnb_hw.csv', low_memory = False)"
      ],
      "metadata": {
        "id": "s_Y_R2lEkij-"
      },
      "id": "s_Y_R2lEkij-",
      "execution_count": 46,
      "outputs": []
    },
    {
      "cell_type": "code",
      "source": [
        "import numpy as np\n",
        "import pandas as pd\n",
        "import matplotlib.pyplot as plt\n",
        "import seaborn as sns\n",
        "from scipy.spatial.distance import cdist\n",
        "\n",
        "# Custom KDE function\n",
        "def my_kde(data, bandwidth=None, kernel='gaussian', **kwargs):\n",
        "    \"\"\"\n",
        "    Create a kernel density estimate plot manually.\n",
        "\n",
        "    Parameters:\n",
        "        - data: Pandas Series or Numpy array of data points\n",
        "        - bandwidth: Bandwidth of the kernel. If None, use Silverman's plug-in estimate\n",
        "        - kernel: Type of kernel ('gaussian', 'uniform', 'epanechnikov')\n",
        "        - kwargs: Additional arguments for plotting (like color, label, etc.)\n",
        "    \"\"\"\n",
        "    data = np.asarray(data)  # Convert input data to a numpy array if not already\n",
        "\n",
        "    # Calculate bandwidth if not provided\n",
        "    if bandwidth is None:\n",
        "        n = len(data)\n",
        "        std_dev = np.std(data)\n",
        "        bandwidth = (4 / (3 * n)) ** (1 / 5) * std_dev  # Silverman's rule of thumb\n",
        "\n",
        "    # Kernel function selection\n",
        "    def gaussian_kernel(x):\n",
        "        return (1 / np.sqrt(2 * np.pi)) * np.exp(-0.5 * x ** 2)\n",
        "\n",
        "    def uniform_kernel(x):\n",
        "        return 0.5 * (np.abs(x) <= 1)\n",
        "\n",
        "    def epanechnikov_kernel(x):\n",
        "        return 3/4 * (1 - x**2) * (np.abs(x) <= 1)\n",
        "\n",
        "    # Select the kernel function based on user input\n",
        "    if kernel == 'gaussian':\n",
        "        kernel_func = gaussian_kernel\n",
        "    elif kernel == 'uniform':\n",
        "        kernel_func = uniform_kernel\n",
        "    elif kernel == 'epanechnikov':\n",
        "        kernel_func = epanechnikov_kernel\n",
        "    else:\n",
        "        raise ValueError(\"Kernel type unknown\")\n",
        "\n",
        "    # Compute the kernel density estimate\n",
        "    grid = np.linspace(np.min(data) - 3 * bandwidth, np.max(data) + 3 * bandwidth, 500)\n",
        "    distances = cdist(grid.reshape(-1, 1), data.reshape(-1, 1), metric='euclidean')\n",
        "    kernels = kernel_func(distances / bandwidth)\n",
        "    density = np.sum(kernels, axis=1) / (len(data) * bandwidth)  # Calculate density\n",
        "\n",
        "    # Plot the KDE using Seaborn\n",
        "    sns.lineplot(x=grid, y=density, **kwargs)\n",
        "    plt.title(f'Kernel Density Estimation ({kernel} kernel)')\n",
        "    plt.xlabel('Data')\n",
        "    plt.ylabel('Density')\n",
        "    plt.show()\n",
        "\n",
        "# Now, test it using the Airbnb data (e.g., 'Price')\n",
        "df = pd.read_csv('/content/wrangling/assignment/data/airbnb_hw.csv', low_memory=False)\n",
        "df_clean = df.dropna(subset=['Price'])  # Remove missing Price values\n",
        "# Convert 'Price' column to numeric, handling errors\n",
        "df_clean['Price'] = pd.to_numeric(df_clean['Price'], errors='coerce')\n",
        "data = df_clean['Price']  # Extract Price column for KDE\n",
        "\n",
        "# Call the custom KDE function for Price\n",
        "my_kde(data, kernel='gaussian', color='blue')\n"
      ],
      "metadata": {
        "id": "3qahkDr3m9XI",
        "outputId": "eee7cf27-6181-4e63-e73a-bc942e8b4dcb",
        "colab": {
          "base_uri": "https://localhost:8080/",
          "height": 472
        }
      },
      "id": "3qahkDr3m9XI",
      "execution_count": 64,
      "outputs": [
        {
          "output_type": "display_data",
          "data": {
            "text/plain": [
              "<Figure size 640x480 with 1 Axes>"
            ],
            "image/png": "[encoded data removed]"
          },
          "metadata": {}
        }
      ]
    },
    {
      "cell_type": "code",
      "source": [
        "#necessary imports\n",
        "import numpy as np\n",
        "import pandas as pd\n",
        "import matplotlib.pyplot as plt\n",
        "from scipy.spatial.distance import cdist\n",
        "import seaborn as sns\n",
        "\n",
        "def my_kde(data, bandwidth=None, kernel='gaussian', **kwargs): #default should be gaussian, as stated above\n",
        "\n",
        "    #if it is not already, the data must be converted to numeric to be able to be plotted in a kdp\n",
        "    if isinstance(data, pd.Series) or isinstance(data, pd.DataFrame):\n",
        "        if data.dtype == object:\n",
        "\n",
        "            #create a numpy array and bandwdidth\n",
        "            data = np.asarray(data) #first, a numpy array must be created\n",
        "            n = len(data)\n",
        "\n",
        "            if bandwidth is None:  #next, the bandwidth must be calculated\n",
        "                std_dev = np.std(data)\n",
        "                bandwidth = (4 / (3 * n))**(1 / 5) * std_dev #utilizing the numbers from silverman's rule of thumb to calculate the bandwidth.\n",
        "\n",
        "            #the type of kernel must be defined and calculated\n",
        "            def gaussian_kernel(x):\n",
        "                return (1 / np.sqrt(2 * np.pi)) * np.exp(-0.5 * x ** 2) #rearranging and utilizing the gaussian kernel formula provided in instructions\n",
        "\n",
        "            def uniform_kernel(x):\n",
        "                return 0.5 * (np.abs(x) <= 1) #rearranging and utilizing the uniform kernel formula provided in instructions\n",
        "\n",
        "            def epanechnikov_kernel(x):\n",
        "                return 3/4 * (1 - x**2) * (np.abs(x) <= 1) #rearranging and utilizing the epanechnikov kernel formula provided in instructions\n",
        "\n",
        "            #create a decision making function to select which kernel to use in the rest of the code\n",
        "            if kernel == 'gaussian':\n",
        "                kernel_func = gaussian_kernel\n",
        "            elif kernel == 'uniform':\n",
        "                kernel_func = uniform_kernel\n",
        "            elif kernel == 'epanechnikov':\n",
        "                kernel_func = epanechnikov_kernel\n",
        "            else:\n",
        "                raise ValueError(\"Kernel type unknown\") #if the kernel types are not guassian, uniform, or epanechnikov, this error message will appear\n",
        "\n",
        "            #find the kernel density estimate\n",
        "            grid = np.linspace(np.min(data) - 3*bandwidth, np.max(data) + 3*bandwidth, 500) #After expiriementation, I chose to settle with a grid size of 500. This allowed for more detail, without creating a rough curve (when testing with 400, the edges and curve were not smooth).\n",
        "            distances = cdist(grid.reshape(-1, 1), data.reshape(-1, 1), metric='euclidean') #used cdist to make code run quickly, as suggested in instructions\n",
        "            kernels = kernel_func(distances / bandwidth)\n",
        "            density = np.sum(kernels, axis=1) / (n * bandwidth) #calculates the KDE\n",
        "\n",
        "            #create the kernel density plot\n",
        "            sns.lineplot(x=grid, y=density, **kwargs) #utilized seaborn.lineplot, as suggested in the instructions\n",
        "            plt.title(f'Kernel Density Estimation ({kernel} kernel)')\n",
        "            plt.xlabel('Data')\n",
        "            plt.ylabel('Density')\n",
        "            plt.show()\n",
        "\n",
        "    #now, test it using dataset from class - I selected the airbnb data\n",
        "    df = pd.read_csv('/content/wrangling/assignment/data/airbnb_hw.csv', low_memory=False)\n",
        "    plt.figure(figsize=(8, 5))\n",
        "    plt.plot(grid, kde, label=f'KDE ({kernel})', **kwargs)\n",
        "    plt.title(f'Kernel Density Estimate for Price with {kernel} Kernel')\n",
        "    plt.xlabel('Price')\n",
        "    plt.ylabel('Density')\n",
        "    plt.legend()\n",
        "    plt.show()"
      ],
      "metadata": {
        "id": "Ib_cJNlkgeDU"
      },
      "id": "Ib_cJNlkgeDU",
      "execution_count": 62,
      "outputs": []
    },
    {
      "cell_type": "markdown",
      "source": [
        "**Test with dataset from class. Compare with seaborn kdplot.**"
      ],
      "metadata": {
        "id": "U4RLAbO6kjnw"
      },
      "id": "U4RLAbO6kjnw"
    },
    {
      "cell_type": "code",
      "source": [
        "#seaborn kdplot\n",
        "import seaborn as sns\n",
        "import matplotlib.pyplot as plt\n",
        "plt.figure(figsize=(8, 5))\n",
        "sns.kdeplot(data, fill=True,)\n",
        "plt.title(\"Seaborn kdplot of Price\")\n",
        "plt.xlabel(\"Price\")\n",
        "plt.ylabel(\"Density\")\n",
        "plt.legend()\n",
        "plt.show()"
      ],
      "metadata": {
        "id": "c4FtyDa7lKQn",
        "outputId": "bfb604cc-6c67-4658-8416-91cdda403d8f",
        "colab": {
          "base_uri": "https://localhost:8080/",
          "height": 543
        }
      },
      "id": "c4FtyDa7lKQn",
      "execution_count": 60,
      "outputs": [
        {
          "output_type": "stream",
          "name": "stderr",
          "text": [
            "<ipython-input-60-0a10b6d34d60>:9: UserWarning: No artists with labels found to put in legend.  Note that artists whose label start with an underscore are ignored when legend() is called with no argument.\n",
            "  plt.legend()\n"
          ]
        },
        {
          "output_type": "display_data",
          "data": {
            "text/plain": [
              "<Figure size 800x500 with 1 Axes>"
            ],
            "image/png": "[encoded data removed]"
          },
          "metadata": {}
        }
      ]
    }
  ],
  "metadata": {
    "kernelspec": {
      "display_name": "Python 3 (ipykernel)",
      "language": "python",
      "name": "python3"
    },
    "language_info": {
      "codemirror_mode": {
        "name": "ipython",
        "version": 3
      },
      "file_extension": ".py",
      "mimetype": "text/x-python",
      "name": "python",
      "nbconvert_exporter": "python",
      "pygments_lexer": "ipython3",
      "version": "3.10.4"
    },
    "colab": {
      "provenance": []
    }
  },
  "nbformat": 4,
  "nbformat_minor": 5
}